{
 "cells": [
  {
   "cell_type": "markdown",
   "id": "91ac5847-9baa-4e25-99ca-5881fc5f2958",
   "metadata": {},
   "source": [
    "# Data Science Tools and Ecosystem"
   ]
  },
  {
   "cell_type": "markdown",
   "id": "c7655284-0775-4f91-8008-19df2a8e8eb7",
   "metadata": {},
   "source": [
    "In this notebook, Data Science Tools and Ecosystem are summarized."
   ]
  },
  {
   "cell_type": "markdown",
   "id": "a4b1dee5-dd59-4fc5-b750-d1359c0bc894",
   "metadata": {},
   "source": [
    "**Objectives**\n",
    "  \n",
    "- List popular languages for Data Science.\n",
    "- Identify key libraries used in Data Science.\n",
    "- Explain the conversion of time units (e.g., minutes to hours).\n",
    "- Describe open-source tools for data science development.\n",
    "- Understand basic arithmetic operations in Python."
   ]
  },
  {
   "cell_type": "markdown",
   "id": "f74728fd-0f3d-4379-a7d5-b4fd38eefebf",
   "metadata": {},
   "source": [
    "# Some of the popular languages that Data Scientists use are:\n",
    "\n",
    "01. Python\n",
    "02. R\n",
    "03. SQL"
   ]
  },
  {
   "cell_type": "markdown",
   "id": "8b7e4bd2-fb5e-4a14-88ef-f9da420ac312",
   "metadata": {},
   "source": [
    "# Some of the commonly used libraries used by Data Scientists include:\n",
    "\n",
    "01. Pandas\n",
    "02. NumPy\n",
    "03. scikit-learn"
   ]
  },
  {
   "cell_type": "markdown",
   "id": "9ffc6231-a09b-48d9-84d0-bf27456ecacf",
   "metadata": {},
   "source": [
    "# Data Science Tools\n",
    "\n",
    "|Data Science Tools|\n",
    "|------------------|\n",
    "| Hadoop |\n",
    "| RStudio |\n",
    "| Apache Spark |"
   ]
  },
  {
   "cell_type": "markdown",
   "id": "ae24edad-f46a-4e08-8751-75470ca5253b",
   "metadata": {},
   "source": [
    "### Below are a few examples of evaluating arithmetic expressions in Python"
   ]
  },
  {
   "cell_type": "code",
   "execution_count": 1,
   "id": "d4f48efb-1443-46fa-ba5d-2f02b0101196",
   "metadata": {},
   "outputs": [
    {
     "data": {
      "text/plain": [
       "17"
      ]
     },
     "execution_count": 1,
     "metadata": {},
     "output_type": "execute_result"
    }
   ],
   "source": [
    "# This a simple arithmetic expression to mutiply then add integers\n",
    "\n",
    "(3*4)+5"
   ]
  },
  {
   "cell_type": "code",
   "execution_count": 2,
   "id": "de583323-f377-4dbd-b6f8-61ce8f8a976a",
   "metadata": {},
   "outputs": [
    {
     "data": {
      "text/plain": [
       "3.3333333333333335"
      ]
     },
     "execution_count": 2,
     "metadata": {},
     "output_type": "execute_result"
    }
   ],
   "source": [
    "# This will convert 200 minutes to hours by diving by 60\n",
    "\n",
    "200/60"
   ]
  },
  {
   "cell_type": "markdown",
   "id": "988c13be-2271-4dda-a270-adf0649afa5b",
   "metadata": {},
   "source": [
    "## Author\n",
    "\n",
    "Ezz El Dean Hashish"
   ]
  }
 ],
 "metadata": {
  "kernelspec": {
   "display_name": "Python 3 (ipykernel)",
   "language": "python",
   "name": "python3"
  },
  "language_info": {
   "codemirror_mode": {
    "name": "ipython",
    "version": 3
   },
   "file_extension": ".py",
   "mimetype": "text/x-python",
   "name": "python",
   "nbconvert_exporter": "python",
   "pygments_lexer": "ipython3",
   "version": "3.12.5"
  }
 },
 "nbformat": 4,
 "nbformat_minor": 5
}
